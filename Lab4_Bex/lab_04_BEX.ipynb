{
 "cells": [
  {
   "cell_type": "markdown",
   "metadata": {},
   "source": [
    "# Lab 04: Scraping Reviews\n",
    "\n",
    "**GOALS**: \n",
    "\n",
    "- Scrape album reviews from Pitchfork\n",
    "- Scrape album images from Pitchfork\n",
    "\n",
    "\n",
    "## LEVEL I"
   ]
  },
  {
   "cell_type": "markdown",
   "metadata": {},
   "source": [
    "In the last example [*intro to webscraping*](08-Beautiful-Soup-Scraping.ipynb), we extracted basic information from the page containing all reviews on **pitchfork.com**.  Now, your task is first, to scrape the links to each review page.  This is akin to clicking on the review, and being taken to the page with the full review.\n",
    "\n",
    "![](images/pitch_ind.png)"
   ]
  },
  {
   "cell_type": "markdown",
   "metadata": {},
   "source": [
    "At each page, your goal is to scrape the headline, the text of the review, the score as a number, the author, genre, and date.  If you're feeling ambitious, grab the sample music files when they exist."
   ]
  },
  {
   "cell_type": "code",
   "execution_count": 1,
   "metadata": {},
   "outputs": [],
   "source": [
    "%matplotlib inline\n",
    "import matplotlib.pyplot as plt\n",
    "import requests\n",
    "from bs4 import BeautifulSoup\n",
    "import pandas as pd\n",
    "import numpy as np"
   ]
  },
  {
   "cell_type": "code",
   "execution_count": 2,
   "metadata": {},
   "outputs": [],
   "source": [
    "url = 'https://pitchfork.com/reviews/albums'"
   ]
  },
  {
   "cell_type": "code",
   "execution_count": 3,
   "metadata": {},
   "outputs": [],
   "source": [
    "siteUrl = 'https://pitchfork.com'"
   ]
  },
  {
   "cell_type": "code",
   "execution_count": 4,
   "metadata": {},
   "outputs": [],
   "source": [
    "response = requests.get(url)"
   ]
  },
  {
   "cell_type": "code",
   "execution_count": 5,
   "metadata": {},
   "outputs": [
    {
     "data": {
      "text/plain": [
       "<Response [200]>"
      ]
     },
     "execution_count": 5,
     "metadata": {},
     "output_type": "execute_result"
    }
   ],
   "source": [
    "response"
   ]
  },
  {
   "cell_type": "code",
   "execution_count": 6,
   "metadata": {},
   "outputs": [
    {
     "data": {
      "text/plain": [
       "'<!DOCTYPE html><html lang=\"en\"><head><title data-react-helmet=\"true\">New Albums &amp; Music Reviews | Pitchfork</title><meta data-react-helmet=\"true\" name=\"viewport\" content=\"width=device-width, initial-scale=1.0, user-scalable=no\"/><meta data-react-helmet=\"true\" name=\"og:type\" content=\"website\"/><meta data-react-helmet=\"true\" name=\"og:site_name\" content=\"Pitchfork\"/><meta data-react-helmet=\"true\" name=\"og:title\" content=\"Pitchfork\"/><meta data-react-helmet=\"true\" name=\"og:url\" content=\"https://pitchfork.com\"/><meta data-react-helmet=\"true\" name=\"description\" content=\"Daily reviews of every important album in music\"/><meta data-react-helmet=\"true\" name=\"og:description\" content=\"Daily reviews of every important album in music\"/><script async=\"\" src=\"/fonts-css/load-fonts.min.js\"></script><link data-react-helmet=\"true\" rel=\"shortcut icon\" type=\"image/png\" href=\"https://cdn.pitchfork.com/assets/misc/favicon-32.png\"/><link data-react-helmet=\"true\" rel=\"icon\" type=\"image/png\" href=\"https://'"
      ]
     },
     "execution_count": 6,
     "metadata": {},
     "output_type": "execute_result"
    }
   ],
   "source": [
    "response.text[:1000]"
   ]
  },
  {
   "cell_type": "code",
   "execution_count": 7,
   "metadata": {},
   "outputs": [],
   "source": [
    "soup = BeautifulSoup(response.text, 'html.parser')"
   ]
  },
  {
   "cell_type": "code",
   "execution_count": 8,
   "metadata": {},
   "outputs": [
    {
     "data": {
      "text/plain": [
       "<div class=\"review\"><a class=\"review__link\" href=\"/reviews/albums/fucked-up-dose-your-dreams/\"><div class=\"review__artwork artwork\"><div class=\"\"><img alt=\"\" src=\"https://media.pitchfork.com/photos/5bad03d666ff630650f8e77d/1:1/w_160/fuckedup.jpg\"/></div></div><div class=\"review__title\"><ul class=\"artist-list review__title-artist\"><li>Fucked Up</li></ul><h2 class=\"review__title-album\">Dose Your Dreams</h2></div></a><div class=\"review__meta\"><ul class=\"genre-list genre-list--inline review__genre-list\"><li class=\"genre-list__item\"><a class=\"genre-list__link\" href=\"/reviews/albums/?genre=metal\">Metal</a></li></ul><ul class=\"authors\"><li><a class=\"linked display-name display-name--linked\" href=\"/staff/ian-cohen/\"><span class=\"by\">by: </span>Ian Cohen</a></li></ul><time class=\"pub-date\" datetime=\"2018-10-08T05:00:00\" title=\"Mon, 08 Oct 2018 05:00:00 GMT\">36 mins ago</time></div></div>"
      ]
     },
     "execution_count": 8,
     "metadata": {},
     "output_type": "execute_result"
    }
   ],
   "source": [
    "soup.find('div', {'class': 'review'})"
   ]
  },
  {
   "cell_type": "code",
   "execution_count": 9,
   "metadata": {},
   "outputs": [
    {
     "data": {
      "text/plain": [
       "<a class=\"review__link\" href=\"/reviews/albums/fucked-up-dose-your-dreams/\"><div class=\"review__artwork artwork\"><div class=\"\"><img alt=\"\" src=\"https://media.pitchfork.com/photos/5bad03d666ff630650f8e77d/1:1/w_160/fuckedup.jpg\"/></div></div><div class=\"review__title\"><ul class=\"artist-list review__title-artist\"><li>Fucked Up</li></ul><h2 class=\"review__title-album\">Dose Your Dreams</h2></div></a>"
      ]
     },
     "execution_count": 9,
     "metadata": {},
     "output_type": "execute_result"
    }
   ],
   "source": [
    "soup.find('div', {'class': 'review'}).find('a')"
   ]
  },
  {
   "cell_type": "code",
   "execution_count": 10,
   "metadata": {},
   "outputs": [
    {
     "name": "stdout",
     "output_type": "stream",
     "text": [
      "found URL: /reviews/albums/fucked-up-dose-your-dreams/\n"
     ]
    }
   ],
   "source": [
    "a = soup.find('div', {'class': 'review'}).find('a', href=True)\n",
    "print (\"found URL:\", a['href'])"
   ]
  },
  {
   "cell_type": "code",
   "execution_count": 11,
   "metadata": {},
   "outputs": [],
   "source": [
    "reviews = soup.find_all('div', {'class': 'review'})"
   ]
  },
  {
   "cell_type": "code",
   "execution_count": 12,
   "metadata": {},
   "outputs": [],
   "source": [
    "artists = []\n",
    "albums = []\n",
    "for review in reviews:\n",
    "    t = review.find('li').text\n",
    "    artists.append(t)\n",
    "    s = review.find('h2').text\n",
    "    albums.append(s)"
   ]
  },
  {
   "cell_type": "markdown",
   "metadata": {},
   "source": [
    "--"
   ]
  },
  {
   "cell_type": "markdown",
   "metadata": {},
   "source": [
    "__list of links to review pages__"
   ]
  },
  {
   "cell_type": "code",
   "execution_count": 13,
   "metadata": {},
   "outputs": [],
   "source": [
    "links = []\n",
    "for review in reviews:\n",
    "    a = review.find('a', href = True)\n",
    "    l = siteUrl + a['href']\n",
    "    links.append(l)"
   ]
  },
  {
   "cell_type": "code",
   "execution_count": 14,
   "metadata": {},
   "outputs": [
    {
     "data": {
      "text/plain": [
       "['https://pitchfork.com/reviews/albums/fucked-up-dose-your-dreams/',\n",
       " 'https://pitchfork.com/reviews/albums/the-joy-formidable-aaarth/',\n",
       " 'https://pitchfork.com/reviews/albums/maxwell-embrya/',\n",
       " 'https://pitchfork.com/reviews/albums/madeline-kenney-perfect-shapes/',\n",
       " 'https://pitchfork.com/reviews/albums/j-dilla-welcome-2-detroit/',\n",
       " 'https://pitchfork.com/reviews/albums/stereolab-switched-on-refried-ectoplasm-aluminum-tunes/',\n",
       " 'https://pitchfork.com/reviews/albums/foodman-aru-otoko-no-densetsu/',\n",
       " 'https://pitchfork.com/reviews/albums/author-and-publisher-beastland/',\n",
       " 'https://pitchfork.com/reviews/albums/ana-da-silva-phew-island/',\n",
       " 'https://pitchfork.com/reviews/albums/cat-power-wanderer/',\n",
       " 'https://pitchfork.com/reviews/albums/tom-petty-an-american-treasure/',\n",
       " 'https://pitchfork.com/reviews/albums/marissa-nadler-for-my-crimes/']"
      ]
     },
     "execution_count": 14,
     "metadata": {},
     "output_type": "execute_result"
    }
   ],
   "source": [
    "links #all links to review pages"
   ]
  },
  {
   "cell_type": "markdown",
   "metadata": {},
   "source": [
    " "
   ]
  },
  {
   "cell_type": "markdown",
   "metadata": {},
   "source": [
    " "
   ]
  },
  {
   "cell_type": "markdown",
   "metadata": {},
   "source": [
    " "
   ]
  },
  {
   "cell_type": "code",
   "execution_count": 15,
   "metadata": {},
   "outputs": [],
   "source": [
    "response = requests.get(links[0])"
   ]
  },
  {
   "cell_type": "code",
   "execution_count": 16,
   "metadata": {},
   "outputs": [
    {
     "data": {
      "text/plain": [
       "<Response [200]>"
      ]
     },
     "execution_count": 16,
     "metadata": {},
     "output_type": "execute_result"
    }
   ],
   "source": [
    "response"
   ]
  },
  {
   "cell_type": "code",
   "execution_count": 17,
   "metadata": {},
   "outputs": [
    {
     "data": {
      "text/plain": [
       "'<!DOCTYPE html><html lang=\"en\"><head><title data-react-helmet=\"true\">Fucked Up: Dose Your Dreams Album Review | Pitchfork</title><meta data-react-helmet=\"true\" name=\"viewport\" content=\"width=device-width, initial-scale=1.0, user-scalable=no\"/><meta data-react-helmet=\"true\" name=\"og:site_name\" content=\"Pitchfork\"/><meta data-react-helmet=\"true\" name=\"description\" content=\"The art-hardcore band’s fifth album is a dynamic departure for the group, a long, psychedelic, concept-heavy odyssey that dips into many genres along the way.\"/><meta data-react-helmet=\"true\" name=\"og:url\" content=\"https://pitchfork.com/reviews/albums/fucked-up-dose-your-dreams/\"/><meta data-react-helmet=\"true\" name=\"og:title\" content=\"Fucked Up: Dose Your Dreams\"/><meta data-react-helmet=\"true\" name=\"og:description\" content=\"The art-hardcore band’s fifth album is a dynamic departure for the group, a long, psychedelic, concept-heavy odyssey that dips into many genres along the way.\"/><meta data-react-helmet=\"true\" name'"
      ]
     },
     "execution_count": 17,
     "metadata": {},
     "output_type": "execute_result"
    }
   ],
   "source": [
    "response.text[:1000]"
   ]
  },
  {
   "cell_type": "code",
   "execution_count": 18,
   "metadata": {},
   "outputs": [],
   "source": [
    "#scrape the headline, the text of the review, the score as a number, the author, genre, and date"
   ]
  },
  {
   "cell_type": "code",
   "execution_count": 19,
   "metadata": {},
   "outputs": [],
   "source": [
    "soup1 = BeautifulSoup(response.text, 'html.parser')"
   ]
  },
  {
   "cell_type": "code",
   "execution_count": 20,
   "metadata": {},
   "outputs": [
    {
     "data": {
      "text/plain": [
       "'The art-hardcore band’s fifth album is a dynamic departure for the group, a long, psychedelic, concept-heavy odyssey that dips into many genres along the way.'"
      ]
     },
     "execution_count": 20,
     "metadata": {},
     "output_type": "execute_result"
    }
   ],
   "source": [
    "soup1.find('div', {'class': 'review-detail__abstract'}).find('p').text #headline"
   ]
  },
  {
   "cell_type": "code",
   "execution_count": 21,
   "metadata": {},
   "outputs": [
    {
     "data": {
      "text/plain": [
       "'Damian “Pink Eyes” Abraham has made a career on a being a bit much: The Canadian punk recently produced an extreme wrestling documentary called Bloodlust and looks like he could get in the ring himself, particularly when the burly, bearded, and frequently shirtless frontman of Fucked Up smashes bottles over his head on stage. He always sings like he’s trying to exfoliate his larynx with loose pieces of his ribcage and they’re the most abrasive vocals anyone will encounter from a band putting out records on Merge. Glass Boys, from 2014, represented Abraham’s purist vision of Fucked Up, a punk rock teleology that traced DIY ethics back to the ancient Greeks and had more guitar overdubs than a Smashing Pumpkins album.'"
      ]
     },
     "execution_count": 21,
     "metadata": {},
     "output_type": "execute_result"
    }
   ],
   "source": [
    "soup1.find('div', {'class': 'contents'}).find('p').text"
   ]
  },
  {
   "cell_type": "code",
   "execution_count": 22,
   "metadata": {},
   "outputs": [],
   "source": [
    "content = soup1.find('div', {'class': 'contents'}).find_all('p')"
   ]
  },
  {
   "cell_type": "code",
   "execution_count": 23,
   "metadata": {},
   "outputs": [
    {
     "data": {
      "text/plain": [
       "[<p>Damian “Pink Eyes” Abraham has made a career on a being a bit much: The Canadian punk recently produced an extreme wrestling documentary called <em>Bloodlust</em> and looks like he could get in the ring himself, particularly when the burly, bearded, and frequently shirtless frontman of Fucked Up <a href=\"https://www.youtube.com/watch?v=Mo2ozoeoo_k\">smashes bottles over his head on stage</a>. He always sings like he’s trying to exfoliate his larynx with loose pieces of his ribcage and they’re the most abrasive vocals anyone will encounter from a band putting out records on Merge. <a href=\"https://pitchfork.com/reviews/albums/19400-fucked-up-glass-boys/\"><em>Glass Boys</em></a>, from 2014, represented Abraham’s purist vision of Fucked Up, a punk rock teleology that traced DIY ethics back to the ancient Greeks and had more guitar overdubs than a <a href=\"https://pitchfork.com/artists/3838-the-smashing-pumpkins/\">Smashing Pumpkins</a> album.</p>,\n",
       " <p>Yet, compared to the band’s double-album rock operas and <a href=\"https://pitchfork.com/reviews/albums/23017-year-of-the-snake/\">wooly</a> <a href=\"https://pitchfork.com/reviews/albums/20607-year-of-the-hare-ep/\">Zodiac</a> <a href=\"https://pitchfork.com/reviews/albums/16267-fucked-up-year-of-the-tiger/\">EPs</a>, <em>Glass Boys</em> was a model of hardcore austerity, and its mild reception felt like a referendum on guitarist <a href=\"https://exclaim.ca/music/article/fucked_up_are_a_different_band_on_dose_your_dreams_as_damian_abraham_and_mike_haliechuk_choose_new_paths\">Mike Haliechuk ceding his artistic control</a>. The line on Fucked Up is that they’ve been expanding the horizons of hardcore, even though it’s a genre they’ve bore little resemblance to, starting with their 2006 debut <em>Hidden World</em>. At this point, it’s clear that Fucked Up are part of the indie rock orthodoxy and everything that made Fucked Up a critical sensation—the saxophones, disco beats, not-all-hardcore genre experiments, and the adventures of <a href=\"https://indie88.com/mythbusting-four-indie-music-myths/\">David Eliade</a>—are back with a vengeance on <em>Dose Your Dreams.</em></p>,\n",
       " <p>It begins by recasting the titular character from their 2011 opus, <em><a href=\"https://pitchfork.com/reviews/albums/15513-david-comes-to-life/\">David Comes To Life</a></em>. Once a budding revolutionary stuck in a lightbulb factory risking it all in the name of love, David inexplicably begins the ambitious <em>Dose Your Dreams</em> as a drugged-up white collar schlub who quits his job on the very first song (”None of Your Business Man”). Minutes later, he meets an elderly mystic named Joyce who guides him through a psychotropic vision quest that challenges his perceptions of reality and vaguely resembles <em>The Matrix,</em> I guess. The plot of <em>Dose Your Dreams</em> could be sussed out like a Magic Eye image if you glance at the titles for long enough (“Living in a Simulation,” “Joy Stops Time,” “How To Die Happy,” “I Don’t Wanna Live in This World”), but anyone who can retell it from memory is either in Fucked Up or read the press release.</p>,\n",
       " <p>Though a thematic sequel to <em>David Comes To Life, Dose Your Dreams</em> demands forgetting everything you know about Fucked Up, and that includes seeing them as a traditionally structured band. Abraham even had to clarify <a href=\"https://www.instagram.com/p/BoOvD_YHPEH/?utm_source=ig_web_button_share_sheet\">on Instagram</a> that he wasn’t quitting, just trying to accept a lesser role. Sharing the mic with Abraham, guitarist Ben Cook, and drummer Jonah Falco are a litany of guests from Polaris Prize Winner Lido Pimiento to singer <a href=\"https://pitchfork.com/artists/14904-mary-margaret-ohara/\">Mary Margaret O’Hara</a> to <a href=\"https://pitchfork.com/artists/2693-j-mascis/\">J Mascis</a>. Abraham appears on only about 2/3rds of <em>Dose Your Dreams,</em> which is still about an hour’s worth of a guy who dominates every track he’s on. His voice is a hammer that sees everything as a nail when Haliechuk and Falco are working with stained glass. But Abraham’s unwavering commitment to brute force just as often works to the band’s advantage here, especially since Haliechuk is prone to lyrical flourishes that would send <a href=\"https://pitchfork.com/artists/2943-colin-meloy/\">Colin Meloy</a> to his fainting couch (“But who is this tramp sat in front of me/She smiled and said, ‘Jilly I be!’”).</p>,\n",
       " <p>Despite Haliechuk and Falco’s bombastic concept, <em>Dose Your Dreams</em> functions similar to the recent hip-hop blockbusters that share its 82-minute length, best enjoyed in chunks or humming in the background between the singles. There’s plenty of the jet-roar symphonies that typified <em>David Comes to Life,</em> but also new looks at dream-pop, corporate cock-rock strutting, dubby disco, Supertramp, mini-marathons of krautrock, and pure ’90s alt-rock. Even if the creation of <em>Dose Your Dreams</em> was acknowledged by all parties as a contentious power struggle that permanently altered Fucked Up, it at least sounds like one hell of a party.</p>,\n",
       " <p>This is particularly true on the title track and “Talking Pictures,” which sounds a bit like Abraham letting loose at a Madchester rave in 1991. These songs are what likely led composer <a href=\"https://pitchfork.com/artists/6803-owen-pallett/\">Owen Pallett</a> to describe this album as Fucked Up’s own <a href=\"https://pitchfork.com/reviews/albums/21328-screamadelica/\"><em>Screamadelica</em></a>, though much of <em>Dose Your Dreams</em> can be enjoyed as a home version of “<a href=\"https://en.wikipedia.org/wiki/Beat_Shazam\">Beat Shazam</a>”: based on the three-song run of “How To Die Happy,” “Two I’s Closed,” and “The One I Want Will Come For Me,” this could’ve been called Fucked Up’s <em><a href=\"https://pitchfork.com/reviews/albums/16605-isnt-anything-reissue-loveless-reissue-eps-1988-1991/\">Loveless</a>, <a href=\"https://pitchfork.com/reviews/albums/10025-person-pitch/\">Person Pitch</a>,</em> or <em><a href=\"https://pitchfork.com/reviews/albums/11719-dinosaur-youre-living-all-over-me-bug/\">You’re Living All Over Me</a></em> as well.</p>,\n",
       " <p>Even with all this dynamism and attention to detail, it feels exhausting to even consider returning to all 82 minutes of <em>Dose Your Dreams</em>. Fucked Up have gone all in on maximalism, but it never feels like they fully interrogated its implications—by the time the jackhammer industrial pulse of “Mechanical Bull” and “Accelerate” push the album in genuinely new directions, they bear the weight of an hour’s worth of extraneous choruses, multi-tracked guitar solos, and five-minute plot-movers. For the size of the ask, where’s the emotional buy-in? David’s storyline basically evaporates 10 minutes in, Abraham feels like a guest amid the cavalcade of other voices, and it’s less of a new path forward for Fucked Up than getting back on course as a generation’s most hardcore indie rock band. There’s a Gatsby-like void at the center of <em>Dose Your Dreams</em>—it’s a big party, but it’s unclear who or what exactly is being celebrated.</p>]"
      ]
     },
     "execution_count": 23,
     "metadata": {},
     "output_type": "execute_result"
    }
   ],
   "source": [
    "content"
   ]
  },
  {
   "cell_type": "code",
   "execution_count": 24,
   "metadata": {},
   "outputs": [],
   "source": [
    "reviewText = []\n",
    "for paragraph in content:\n",
    "    p = paragraph.text\n",
    "    reviewText.append(p)"
   ]
  },
  {
   "cell_type": "code",
   "execution_count": 25,
   "metadata": {},
   "outputs": [
    {
     "data": {
      "text/plain": [
       "['Damian “Pink Eyes” Abraham has made a career on a being a bit much: The Canadian punk recently produced an extreme wrestling documentary called Bloodlust and looks like he could get in the ring himself, particularly when the burly, bearded, and frequently shirtless frontman of Fucked Up smashes bottles over his head on stage. He always sings like he’s trying to exfoliate his larynx with loose pieces of his ribcage and they’re the most abrasive vocals anyone will encounter from a band putting out records on Merge. Glass Boys, from 2014, represented Abraham’s purist vision of Fucked Up, a punk rock teleology that traced DIY ethics back to the ancient Greeks and had more guitar overdubs than a Smashing Pumpkins album.',\n",
       " 'Yet, compared to the band’s double-album rock operas and wooly Zodiac EPs, Glass Boys was a model of hardcore austerity, and its mild reception felt like a referendum on guitarist Mike Haliechuk ceding his artistic control. The line on Fucked Up is that they’ve been expanding the horizons of hardcore, even though it’s a genre they’ve bore little resemblance to, starting with their 2006 debut Hidden World. At this point, it’s clear that Fucked Up are part of the indie rock orthodoxy and everything that made Fucked Up a critical sensation—the saxophones, disco beats, not-all-hardcore genre experiments, and the adventures of David Eliade—are back with a vengeance on Dose Your Dreams.',\n",
       " 'It begins by recasting the titular character from their 2011 opus, David Comes To Life. Once a budding revolutionary stuck in a lightbulb factory risking it all in the name of love, David inexplicably begins the ambitious Dose Your Dreams as a drugged-up white collar schlub who quits his job on the very first song (”None of Your Business Man”). Minutes later, he meets an elderly mystic named Joyce who guides him through a psychotropic vision quest that challenges his perceptions of reality and vaguely resembles The Matrix, I guess. The plot of Dose Your Dreams could be sussed out like a Magic Eye image if you glance at the titles for long enough (“Living in a Simulation,” “Joy Stops Time,” “How To Die Happy,” “I Don’t Wanna Live in This World”), but anyone who can retell it from memory is either in Fucked Up or read the press release.',\n",
       " 'Though a thematic sequel to David Comes To Life, Dose Your Dreams demands forgetting everything you know about Fucked Up, and that includes seeing them as a traditionally structured band. Abraham even had to clarify on Instagram that he wasn’t quitting, just trying to accept a lesser role. Sharing the mic with Abraham, guitarist Ben Cook, and drummer Jonah Falco are a litany of guests from Polaris Prize Winner Lido Pimiento to singer Mary Margaret O’Hara to J Mascis. Abraham appears on only about 2/3rds of Dose Your Dreams, which is still about an hour’s worth of a guy who dominates every track he’s on. His voice is a hammer that sees everything as a nail when Haliechuk and Falco are working with stained glass. But Abraham’s unwavering commitment to brute force just as often works to the band’s advantage here, especially since Haliechuk is prone to lyrical flourishes that would send Colin Meloy to his fainting couch (“But who is this tramp sat in front of me/She smiled and said, ‘Jilly I be!’”).',\n",
       " 'Despite Haliechuk and Falco’s bombastic concept, Dose Your Dreams functions similar to the recent hip-hop blockbusters that share its 82-minute length, best enjoyed in chunks or humming in the background between the singles. There’s plenty of the jet-roar symphonies that typified David Comes to Life, but also new looks at dream-pop, corporate cock-rock strutting, dubby disco, Supertramp, mini-marathons of krautrock, and pure ’90s alt-rock. Even if the creation of Dose Your Dreams was acknowledged by all parties as a contentious power struggle that permanently altered Fucked Up, it at least sounds like one hell of a party.',\n",
       " 'This is particularly true on the title track and “Talking Pictures,” which sounds a bit like Abraham letting loose at a Madchester rave in 1991. These songs are what likely led composer Owen Pallett to describe this album as Fucked Up’s own Screamadelica, though much of Dose Your Dreams can be enjoyed as a home version of “Beat Shazam”: based on the three-song run of “How To Die Happy,” “Two I’s Closed,” and “The One I Want Will Come For Me,” this could’ve been called Fucked Up’s Loveless, Person Pitch, or You’re Living All Over Me as well.',\n",
       " 'Even with all this dynamism and attention to detail, it feels exhausting to even consider returning to all 82 minutes of Dose Your Dreams. Fucked Up have gone all in on maximalism, but it never feels like they fully interrogated its implications—by the time the jackhammer industrial pulse of “Mechanical Bull” and “Accelerate” push the album in genuinely new directions, they bear the weight of an hour’s worth of extraneous choruses, multi-tracked guitar solos, and five-minute plot-movers. For the size of the ask, where’s the emotional buy-in? David’s storyline basically evaporates 10 minutes in, Abraham feels like a guest amid the cavalcade of other voices, and it’s less of a new path forward for Fucked Up than getting back on course as a generation’s most hardcore indie rock band. There’s a Gatsby-like void at the center of Dose Your Dreams—it’s a big party, but it’s unclear who or what exactly is being celebrated.']"
      ]
     },
     "execution_count": 25,
     "metadata": {},
     "output_type": "execute_result"
    }
   ],
   "source": [
    "reviewText #review text"
   ]
  },
  {
   "cell_type": "code",
   "execution_count": 26,
   "metadata": {},
   "outputs": [],
   "source": [
    "firstReview = \"\"\n",
    "for text in reviewText:\n",
    "    firstReview = firstReview + text"
   ]
  },
  {
   "cell_type": "code",
   "execution_count": 27,
   "metadata": {},
   "outputs": [
    {
     "data": {
      "text/plain": [
       "'Damian “Pink Eyes” Abraham has made a career on a being a bit much: The Canadian punk recently produced an extreme wrestling documentary called Bloodlust and looks like he could get in the ring himself, particularly when the burly, bearded, and frequently shirtless frontman of Fucked Up smashes bottles over his head on stage. He always sings like he’s trying to exfoliate his larynx with loose pieces of his ribcage and they’re the most abrasive vocals anyone will encounter from a band putting out records on Merge. Glass Boys, from 2014, represented Abraham’s purist vision of Fucked Up, a punk rock teleology that traced DIY ethics back to the ancient Greeks and had more guitar overdubs than a Smashing Pumpkins album.Yet, compared to the band’s double-album rock operas and wooly Zodiac EPs, Glass Boys was a model of hardcore austerity, and its mild reception felt like a referendum on guitarist Mike Haliechuk ceding his artistic control. The line on Fucked Up is that they’ve been expanding the horizons of hardcore, even though it’s a genre they’ve bore little resemblance to, starting with their 2006 debut Hidden World. At this point, it’s clear that Fucked Up are part of the indie rock orthodoxy and everything that made Fucked Up a critical sensation—the saxophones, disco beats, not-all-hardcore genre experiments, and the adventures of David Eliade—are back with a vengeance on Dose Your Dreams.It begins by recasting the titular character from their 2011 opus, David Comes To Life. Once a budding revolutionary stuck in a lightbulb factory risking it all in the name of love, David inexplicably begins the ambitious Dose Your Dreams as a drugged-up white collar schlub who quits his job on the very first song (”None of Your Business Man”). Minutes later, he meets an elderly mystic named Joyce who guides him through a psychotropic vision quest that challenges his perceptions of reality and vaguely resembles The Matrix, I guess. The plot of Dose Your Dreams could be sussed out like a Magic Eye image if you glance at the titles for long enough (“Living in a Simulation,” “Joy Stops Time,” “How To Die Happy,” “I Don’t Wanna Live in This World”), but anyone who can retell it from memory is either in Fucked Up or read the press release.Though a thematic sequel to David Comes To Life, Dose Your Dreams demands forgetting everything you know about Fucked Up, and that includes seeing them as a traditionally structured band. Abraham even had to clarify on Instagram that he wasn’t quitting, just trying to accept a lesser role. Sharing the mic with Abraham, guitarist Ben Cook, and drummer Jonah Falco are a litany of guests from Polaris Prize Winner Lido Pimiento to singer Mary Margaret O’Hara to J Mascis. Abraham appears on only about 2/3rds of Dose Your Dreams, which is still about an hour’s worth of a guy who dominates every track he’s on. His voice is a hammer that sees everything as a nail when Haliechuk and Falco are working with stained glass. But Abraham’s unwavering commitment to brute force just as often works to the band’s advantage here, especially since Haliechuk is prone to lyrical flourishes that would send Colin Meloy to his fainting couch (“But who is this tramp sat in front of me/She smiled and said, ‘Jilly I be!’”).Despite Haliechuk and Falco’s bombastic concept, Dose Your Dreams functions similar to the recent hip-hop blockbusters that share its 82-minute length, best enjoyed in chunks or humming in the background between the singles. There’s plenty of the jet-roar symphonies that typified David Comes to Life, but also new looks at dream-pop, corporate cock-rock strutting, dubby disco, Supertramp, mini-marathons of krautrock, and pure ’90s alt-rock. Even if the creation of Dose Your Dreams was acknowledged by all parties as a contentious power struggle that permanently altered Fucked Up, it at least sounds like one hell of a party.This is particularly true on the title track and “Talking Pictures,” which sounds a bit like Abraham letting loose at a Madchester rave in 1991. These songs are what likely led composer Owen Pallett to describe this album as Fucked Up’s own Screamadelica, though much of Dose Your Dreams can be enjoyed as a home version of “Beat Shazam”: based on the three-song run of “How To Die Happy,” “Two I’s Closed,” and “The One I Want Will Come For Me,” this could’ve been called Fucked Up’s Loveless, Person Pitch, or You’re Living All Over Me as well.Even with all this dynamism and attention to detail, it feels exhausting to even consider returning to all 82 minutes of Dose Your Dreams. Fucked Up have gone all in on maximalism, but it never feels like they fully interrogated its implications—by the time the jackhammer industrial pulse of “Mechanical Bull” and “Accelerate” push the album in genuinely new directions, they bear the weight of an hour’s worth of extraneous choruses, multi-tracked guitar solos, and five-minute plot-movers. For the size of the ask, where’s the emotional buy-in? David’s storyline basically evaporates 10 minutes in, Abraham feels like a guest amid the cavalcade of other voices, and it’s less of a new path forward for Fucked Up than getting back on course as a generation’s most hardcore indie rock band. There’s a Gatsby-like void at the center of Dose Your Dreams—it’s a big party, but it’s unclear who or what exactly is being celebrated.'"
      ]
     },
     "execution_count": 27,
     "metadata": {},
     "output_type": "execute_result"
    }
   ],
   "source": [
    "firstReview"
   ]
  },
  {
   "cell_type": "markdown",
   "metadata": {},
   "source": [
    "--"
   ]
  },
  {
   "cell_type": "markdown",
   "metadata": {},
   "source": [
    "__finding the headlines of the reviews__"
   ]
  },
  {
   "cell_type": "code",
   "execution_count": 28,
   "metadata": {},
   "outputs": [],
   "source": [
    "headline = \"\"\n",
    "headlines = []\n",
    "loop = 0\n",
    "for link in links:\n",
    "    response = requests.get(links[loop])\n",
    "    contentSoup = BeautifulSoup(response.text, 'html.parser')\n",
    "    headline = links[loop] + headline\n",
    "    headline = contentSoup.find('div', {'class': 'review-detail__abstract'}).find('p').text\n",
    "    headlines.append(headline)\n",
    "    loop = loop + 1"
   ]
  },
  {
   "cell_type": "code",
   "execution_count": 29,
   "metadata": {},
   "outputs": [
    {
     "data": {
      "text/plain": [
       "['The art-hardcore band’s fifth album is a dynamic departure for the group, a long, psychedelic, concept-heavy odyssey that dips into many genres along the way.',\n",
       " 'On their fourth album, the Welsh rockers build their towering songs on wobblier foundations for the sheer thrill of trying to make them topple.',\n",
       " 'The reissue of Maxwell’s second album from 1998 showcases the mercurial spirit that followed the R&B auteur down new, aqueous corridors.',\n",
       " 'On her second album, the sophisticated art-rock singer steps toward the center of her own songs, thanks in part to production from Wye Oak’s Jenn Wasner.',\n",
       " 'Each Sunday, Pitchfork takes an in-depth look at a significant album from the past, and any record not in our archives is eligible. Today, we revisit a piece of Detroit history that rippled through all of hip-hop.',\n",
       " 'Singles and splits documented a band’s between-albums evolution during the 1990s. These compilations, remastered and reissued, reveal that process for one of the era’s most innovative groups.',\n",
       " 'Moving away from footwork conventions and playing with a wider range of tempos, the Yokohama producer focuses his attention on a scintillating of tiny, tactile, and childlike sounds.',\n",
       " 'The industrial music and metal sculptures of Tristan Shone can sound and look scary. But there are songs and even soul lurking beneath the grim façade.',\n",
       " \"A collaboration between the Japanese electronic artist and the Raincoats founding member lands at the natural middle of each musician's sensibilities.\",\n",
       " 'On her first album in six years, Chan Marshall roams the many moods of her songwriting with a careful, soft-spoken power.',\n",
       " 'This big box set marks the first posthumous release from the Petty estate and finds new meaning both through songs we thought we knew and necessary obscurities.',\n",
       " 'On her moody eighth album, the Boston singer-songwriter examines the icy terrain of marital strife through the lens of her habitual gothic folk.']"
      ]
     },
     "execution_count": 29,
     "metadata": {},
     "output_type": "execute_result"
    }
   ],
   "source": [
    "headlines"
   ]
  },
  {
   "cell_type": "markdown",
   "metadata": {},
   "source": [
    " "
   ]
  },
  {
   "cell_type": "markdown",
   "metadata": {},
   "source": [
    " "
   ]
  },
  {
   "cell_type": "markdown",
   "metadata": {},
   "source": [
    " "
   ]
  },
  {
   "cell_type": "markdown",
   "metadata": {},
   "source": [
    "--"
   ]
  },
  {
   "cell_type": "markdown",
   "metadata": {},
   "source": [
    "__list of text from reviews__"
   ]
  },
  {
   "cell_type": "code",
   "execution_count": 30,
   "metadata": {},
   "outputs": [],
   "source": [
    "reviewTexts = []\n",
    "p = \"\"\n",
    "allReviews = []\n",
    "loop1 = 0\n",
    "for link in links:\n",
    "    response = requests.get(links[loop1])\n",
    "    contentSoup = BeautifulSoup(response.text, 'html.parser')\n",
    "    content = contentSoup.find('div', {'class': 'contents'}).find_all('p')\n",
    "    for paragraph in content:\n",
    "        p = p + paragraph.text\n",
    "    reviewTexts.append(p)\n",
    "    p = \"\"\n",
    "    loop1 = loop1 + 1"
   ]
  },
  {
   "cell_type": "code",
   "execution_count": 31,
   "metadata": {},
   "outputs": [
    {
     "data": {
      "text/plain": [
       "['Damian “Pink Eyes” Abraham has made a career on a being a bit much: The Canadian punk recently produced an extreme wrestling documentary called Bloodlust and looks like he could get in the ring himself, particularly when the burly, bearded, and frequently shirtless frontman of Fucked Up smashes bottles over his head on stage. He always sings like he’s trying to exfoliate his larynx with loose pieces of his ribcage and they’re the most abrasive vocals anyone will encounter from a band putting out records on Merge. Glass Boys, from 2014, represented Abraham’s purist vision of Fucked Up, a punk rock teleology that traced DIY ethics back to the ancient Greeks and had more guitar overdubs than a Smashing Pumpkins album.Yet, compared to the band’s double-album rock operas and wooly Zodiac EPs, Glass Boys was a model of hardcore austerity, and its mild reception felt like a referendum on guitarist Mike Haliechuk ceding his artistic control. The line on Fucked Up is that they’ve been expanding the horizons of hardcore, even though it’s a genre they’ve bore little resemblance to, starting with their 2006 debut Hidden World. At this point, it’s clear that Fucked Up are part of the indie rock orthodoxy and everything that made Fucked Up a critical sensation—the saxophones, disco beats, not-all-hardcore genre experiments, and the adventures of David Eliade—are back with a vengeance on Dose Your Dreams.It begins by recasting the titular character from their 2011 opus, David Comes To Life. Once a budding revolutionary stuck in a lightbulb factory risking it all in the name of love, David inexplicably begins the ambitious Dose Your Dreams as a drugged-up white collar schlub who quits his job on the very first song (”None of Your Business Man”). Minutes later, he meets an elderly mystic named Joyce who guides him through a psychotropic vision quest that challenges his perceptions of reality and vaguely resembles The Matrix, I guess. The plot of Dose Your Dreams could be sussed out like a Magic Eye image if you glance at the titles for long enough (“Living in a Simulation,” “Joy Stops Time,” “How To Die Happy,” “I Don’t Wanna Live in This World”), but anyone who can retell it from memory is either in Fucked Up or read the press release.Though a thematic sequel to David Comes To Life, Dose Your Dreams demands forgetting everything you know about Fucked Up, and that includes seeing them as a traditionally structured band. Abraham even had to clarify on Instagram that he wasn’t quitting, just trying to accept a lesser role. Sharing the mic with Abraham, guitarist Ben Cook, and drummer Jonah Falco are a litany of guests from Polaris Prize Winner Lido Pimiento to singer Mary Margaret O’Hara to J Mascis. Abraham appears on only about 2/3rds of Dose Your Dreams, which is still about an hour’s worth of a guy who dominates every track he’s on. His voice is a hammer that sees everything as a nail when Haliechuk and Falco are working with stained glass. But Abraham’s unwavering commitment to brute force just as often works to the band’s advantage here, especially since Haliechuk is prone to lyrical flourishes that would send Colin Meloy to his fainting couch (“But who is this tramp sat in front of me/She smiled and said, ‘Jilly I be!’”).Despite Haliechuk and Falco’s bombastic concept, Dose Your Dreams functions similar to the recent hip-hop blockbusters that share its 82-minute length, best enjoyed in chunks or humming in the background between the singles. There’s plenty of the jet-roar symphonies that typified David Comes to Life, but also new looks at dream-pop, corporate cock-rock strutting, dubby disco, Supertramp, mini-marathons of krautrock, and pure ’90s alt-rock. Even if the creation of Dose Your Dreams was acknowledged by all parties as a contentious power struggle that permanently altered Fucked Up, it at least sounds like one hell of a party.This is particularly true on the title track and “Talking Pictures,” which sounds a bit like Abraham letting loose at a Madchester rave in 1991. These songs are what likely led composer Owen Pallett to describe this album as Fucked Up’s own Screamadelica, though much of Dose Your Dreams can be enjoyed as a home version of “Beat Shazam”: based on the three-song run of “How To Die Happy,” “Two I’s Closed,” and “The One I Want Will Come For Me,” this could’ve been called Fucked Up’s Loveless, Person Pitch, or You’re Living All Over Me as well.Even with all this dynamism and attention to detail, it feels exhausting to even consider returning to all 82 minutes of Dose Your Dreams. Fucked Up have gone all in on maximalism, but it never feels like they fully interrogated its implications—by the time the jackhammer industrial pulse of “Mechanical Bull” and “Accelerate” push the album in genuinely new directions, they bear the weight of an hour’s worth of extraneous choruses, multi-tracked guitar solos, and five-minute plot-movers. For the size of the ask, where’s the emotional buy-in? David’s storyline basically evaporates 10 minutes in, Abraham feels like a guest amid the cavalcade of other voices, and it’s less of a new path forward for Fucked Up than getting back on course as a generation’s most hardcore indie rock band. There’s a Gatsby-like void at the center of Dose Your Dreams—it’s a big party, but it’s unclear who or what exactly is being celebrated.',\n",
       " 'A major-label deal may no longer be a prerequisite for breaking into the mainstream, but they still do come in handy if you want to stay there. When you think of the biggest rock bands of the past 20 years—Foo Fighters, Queens of the Stone Age, Muse, the Black Keys—they all ascended to the top line of the festival poster, in part, due to the largesse of a deep-pocketed corporate imprint. And from day one, Welsh power trio and Atlantic Records hopefuls the Joy Formidable seemed poised to join them in the 50-point-font club, with their atomic fusion of Britpop-scaled anthemery and post-shoegaze overdrive. When firing on all cylinders, they could be the heaviest rock band that you would never think of classifying as metal, or the most pop-friendly act to drop the occasional blast beat.So when the Joy Formidable split from Atlantic after two respectably charting albums, there was a more profound sense of unfinished business than with your typical major-to-indie reversion. Initially, the change in circumstance was noticeable only if you scoured their Spotify page for the label metadata fine print: the band’s 2016 album, Hitch, was streamlined and stage-ready almost to a fault. But where that album saw the band overcome an internal crisis—i.e., the end of singer/guitarist Ritzy Bryan and bassist’s Rhydian Dafydd romantic relationship—their fourth record was nearly aborted by an existential one.And so, with AAARTH, the Joy Formidable have embraced independence not just as a business-survival strategy, but as a creative-liberation philosophy, too. They still sound very much like a rock band striving for the “Top of the Pops”; only now, they want to be the strangest one on there, too. The sense of playful abandon is right there in the album’s name: the Welsh term for bear (albeit with a few extra A’s for guttural emphasis), AAARTH is the sort of title that would make major-label marketing departments wince, while requiring radio announcers to activate the phlegmiest reaches of their larynx.Ironically, now that the Joy Formidable have resettled in the Southwest U.S., they seem more eager to assert their Welshness. AAARTH opens with a rare display of their native tongue, “Y Bluen Eira,” but the language isn’t the only thing the average Anglophone listener will find inscrutable. It’s less a song than a statement of purpose—a funhouse-mirrored portal into an album that isn’t as eager to make friends as its predecessors.AAARTH is hardly lacking in towering rock songs, but the band builds them on wobblier foundations for the sheer thrill of trying to make them topple. The staccato-riffed standout “The Wrong Side” comes on like the introductory lurch to Arcade Fire’s “Wake Up” spun off into even more over-the-top anthem: What begins as an earnest, reach-across-the-aisle plea for kindness in post-Trump America gets gradually sucked into a swirl of squirrelly guitar lines and player-piano frivolity. And while “The Better Me” could be the most fetching pure pop song this band has ever produced, it too builds into a whirling dervish of booming drum breaks, short-circuiting synths, and noisy spasms that gurgle and wheeze like gastro-intestinal indigestion.Not every song here aspires to the same degree of inspired irreverence. While the album introduces some intriguing new looks—like the Eastern-psych strut of “Cicada (Land on Your Back)”—the Joy Formidable still have a tendency to pummel their tunes into a modern-rock mush. AAARTH sags under the weight of its less melodic, more melodramatic moments, like the nu-goth pummel of “Dance of the Lotus” or the muscular but meandering grunge-funk workout “Caught on a Breeze.” They’re the sort of songs that immediately show their hand on an album that otherwise excels at slow reveals and sonic Easter eggs. AAARTH’s most arresting moment comes in the form of “All in All,” a gentle glockenspieled ballad that gradually floats skyward until it burns up and explodes into the stratosphere. Of course, by this point, such nuclear-grade eruptions are to be expected from even the Joy Formidable’s most subdued songs. But here, we at least get a clearer view of the artfully arranged debris swirling inside the tornado.']"
      ]
     },
     "execution_count": 31,
     "metadata": {},
     "output_type": "execute_result"
    }
   ],
   "source": [
    "reviewTexts[0:2]"
   ]
  },
  {
   "cell_type": "markdown",
   "metadata": {},
   "source": [
    " "
   ]
  },
  {
   "cell_type": "markdown",
   "metadata": {},
   "source": [
    " "
   ]
  },
  {
   "cell_type": "markdown",
   "metadata": {},
   "source": [
    " "
   ]
  },
  {
   "cell_type": "code",
   "execution_count": 32,
   "metadata": {},
   "outputs": [],
   "source": [
    "soup1 = BeautifulSoup(response.text, 'html.parser')"
   ]
  },
  {
   "cell_type": "code",
   "execution_count": 33,
   "metadata": {},
   "outputs": [
    {
     "data": {
      "text/plain": [
       "'7.2'"
      ]
     },
     "execution_count": 33,
     "metadata": {},
     "output_type": "execute_result"
    }
   ],
   "source": [
    "soup1.find('div', {'class': 'score-circle'}).find(\"span\").text"
   ]
  },
  {
   "cell_type": "markdown",
   "metadata": {},
   "source": [
    "--"
   ]
  },
  {
   "cell_type": "markdown",
   "metadata": {},
   "source": [
    "__list of scores as floats__"
   ]
  },
  {
   "cell_type": "code",
   "execution_count": 34,
   "metadata": {},
   "outputs": [],
   "source": [
    "scores = []\n",
    "loop2 = 0;\n",
    "for link in links:\n",
    "    response = requests.get(links[loop2])\n",
    "    contentSoup = BeautifulSoup(response.text, 'html.parser')\n",
    "    pew = contentSoup.find('div', {'class': 'score-circle'}).find(\"span\").text\n",
    "    scores.append(float(pew))\n",
    "    loop2 = loop2 + 1"
   ]
  },
  {
   "cell_type": "code",
   "execution_count": 35,
   "metadata": {},
   "outputs": [
    {
     "data": {
      "text/plain": [
       "[7.3, 6.9, 8.3, 7.2, 8.5, 7.7, 7.5, 7.1, 7.3, 7.4, 8.3, 7.2]"
      ]
     },
     "execution_count": 35,
     "metadata": {},
     "output_type": "execute_result"
    }
   ],
   "source": [
    "scores"
   ]
  },
  {
   "cell_type": "markdown",
   "metadata": {},
   "source": [
    " "
   ]
  },
  {
   "cell_type": "markdown",
   "metadata": {},
   "source": [
    " "
   ]
  },
  {
   "cell_type": "markdown",
   "metadata": {},
   "source": [
    " "
   ]
  },
  {
   "cell_type": "code",
   "execution_count": 36,
   "metadata": {},
   "outputs": [
    {
     "data": {
      "text/plain": [
       "'Olivia Horn '"
      ]
     },
     "execution_count": 36,
     "metadata": {},
     "output_type": "execute_result"
    }
   ],
   "source": [
    "soup1.find('ul', {'class': 'authors-detail'}).find('a').text"
   ]
  },
  {
   "cell_type": "markdown",
   "metadata": {},
   "source": [
    "--"
   ]
  },
  {
   "cell_type": "markdown",
   "metadata": {},
   "source": [
    "__list of review authors__"
   ]
  },
  {
   "cell_type": "code",
   "execution_count": 37,
   "metadata": {},
   "outputs": [],
   "source": [
    "authors = []\n",
    "loop3 = 0;\n",
    "for link in links:\n",
    "    response = requests.get(links[loop3])\n",
    "    contentSoup = BeautifulSoup(response.text, 'html.parser')\n",
    "    luck = contentSoup.find('ul', {'class': 'authors-detail'}).find('a').text\n",
    "    authors.append(luck)\n",
    "    loop3 = loop3 + 1"
   ]
  },
  {
   "cell_type": "code",
   "execution_count": 38,
   "metadata": {},
   "outputs": [
    {
     "data": {
      "text/plain": [
       "['Ian Cohen',\n",
       " 'Stuart Berman',\n",
       " 'Brad Nelson',\n",
       " 'Allison Hussey',\n",
       " 'Edwin “STATS” Houghton',\n",
       " 'Philip Sherburne',\n",
       " 'Andy Beta',\n",
       " 'Brian Howe',\n",
       " 'Sasha Geffen',\n",
       " 'Jayson Greene',\n",
       " 'Sam Sodomsky',\n",
       " 'Olivia Horn ']"
      ]
     },
     "execution_count": 38,
     "metadata": {},
     "output_type": "execute_result"
    }
   ],
   "source": [
    "authors"
   ]
  },
  {
   "cell_type": "markdown",
   "metadata": {},
   "source": [
    " "
   ]
  },
  {
   "cell_type": "markdown",
   "metadata": {},
   "source": [
    " "
   ]
  },
  {
   "cell_type": "markdown",
   "metadata": {},
   "source": [
    " "
   ]
  },
  {
   "cell_type": "code",
   "execution_count": 39,
   "metadata": {},
   "outputs": [],
   "source": [
    "response = requests.get(links[5])"
   ]
  },
  {
   "cell_type": "code",
   "execution_count": 40,
   "metadata": {},
   "outputs": [
    {
     "data": {
      "text/plain": [
       "<Response [200]>"
      ]
     },
     "execution_count": 40,
     "metadata": {},
     "output_type": "execute_result"
    }
   ],
   "source": [
    "response"
   ]
  },
  {
   "cell_type": "code",
   "execution_count": 41,
   "metadata": {},
   "outputs": [
    {
     "data": {
      "text/plain": [
       "'<!DOCTYPE html><html lang=\"en\"><head><title data-react-helmet=\"true\">Stereolab: Switched On / Refried Ectoplasm / Aluminum Tunes Album Review | Pitchfork</title><meta data-react-helmet=\"true\" name=\"viewport\" content=\"width=device-width, initial-scale=1.0, user-scalable=no\"/><meta data-react-helmet=\"true\" name=\"og:site_name\" content=\"Pitchfork\"/><meta data-react-helmet=\"true\" name=\"description\" content=\"Singles and splits documented a band’s between-albums evolution during the 1990s. These compilations, remastered and reissued, document that process for one of the era’s most innovative groups.\"/><meta data-react-helmet=\"true\" name=\"og:url\" content=\"https://pitchfork.com/reviews/albums/stereolab-switched-on-refried-ectoplasm-aluminum-tunes/\"/><meta data-react-helmet=\"true\" name=\"og:title\" content=\"Stereolab: Switched On / Refried Ectoplasm / Aluminum Tunes\"/><meta data-react-helmet=\"true\" name=\"og:description\" content=\"Singles and splits documented a band’s between-albums evolution durin'"
      ]
     },
     "execution_count": 41,
     "metadata": {},
     "output_type": "execute_result"
    }
   ],
   "source": [
    "response.text[:1000]"
   ]
  },
  {
   "cell_type": "code",
   "execution_count": 42,
   "metadata": {},
   "outputs": [],
   "source": [
    "soup1 = BeautifulSoup(response.text, 'html.parser')"
   ]
  },
  {
   "cell_type": "code",
   "execution_count": 43,
   "metadata": {},
   "outputs": [
    {
     "data": {
      "text/plain": [
       "<ul class=\"genre-list genre-list--before\"><li class=\"genre-list__item\"><a class=\"genre-list__link\" href=\"/reviews/albums/?genre=experimental\">Experimental</a></li></ul>"
      ]
     },
     "execution_count": 43,
     "metadata": {},
     "output_type": "execute_result"
    }
   ],
   "source": [
    "soup1.find('ul', {'class': 'genre-list'})"
   ]
  },
  {
   "cell_type": "code",
   "execution_count": 44,
   "metadata": {},
   "outputs": [
    {
     "data": {
      "text/plain": [
       "'Experimental'"
      ]
     },
     "execution_count": 44,
     "metadata": {},
     "output_type": "execute_result"
    }
   ],
   "source": [
    "soup1.find('ul', {'class': 'genre-list'}).find('li').text #if no genre list, then error"
   ]
  },
  {
   "cell_type": "markdown",
   "metadata": {},
   "source": [
    "--"
   ]
  },
  {
   "cell_type": "markdown",
   "metadata": {},
   "source": [
    "**list of genres**"
   ]
  },
  {
   "cell_type": "code",
   "execution_count": 55,
   "metadata": {},
   "outputs": [],
   "source": [
    "genres = []\n",
    "multGenre = []\n",
    "ch = \"\"\n",
    "loop4 = 0;\n",
    "genreLoop = 0;\n",
    "for link in links:\n",
    "    response = requests.get(links[loop4])\n",
    "    contentSoup = BeautifulSoup(response.text, 'html.parser')\n",
    "    if len(contentSoup.find_all('ul', {'class': 'genre-list'})) != 0: #make sure there is a genre\n",
    "        womp = contentSoup.find('ul', {'class': 'genre-list'}).find_all('li')\n",
    "        for music in womp: \n",
    "            multGenre.append(music.text)\n",
    "        if len(womp) > 1: #if multiple genre put them in one list slot\n",
    "            for gen in multGenre:\n",
    "                ch = ch + \"/\" + gen\n",
    "        else: # if just one genre put it in one list slot\n",
    "            ch = music.text\n",
    "        genres.append(ch)\n",
    "        ch = \"\"\n",
    "    else:\n",
    "        genres.append(\"\")\n",
    "    loop4 = loop4 + 1"
   ]
  },
  {
   "cell_type": "code",
   "execution_count": 56,
   "metadata": {},
   "outputs": [
    {
     "data": {
      "text/plain": [
       "['Metal',\n",
       " 'Rock',\n",
       " 'Pop/R&B',\n",
       " 'Rock',\n",
       " 'Rap',\n",
       " 'Experimental',\n",
       " 'Experimental',\n",
       " 'Metal',\n",
       " 'Experimental',\n",
       " 'Rock',\n",
       " 'Rock',\n",
       " 'Folk/Country']"
      ]
     },
     "execution_count": 56,
     "metadata": {},
     "output_type": "execute_result"
    }
   ],
   "source": [
    "genres"
   ]
  },
  {
   "cell_type": "markdown",
   "metadata": {},
   "source": [
    " "
   ]
  },
  {
   "cell_type": "markdown",
   "metadata": {},
   "source": [
    " "
   ]
  },
  {
   "cell_type": "markdown",
   "metadata": {},
   "source": [
    " "
   ]
  },
  {
   "cell_type": "code",
   "execution_count": 47,
   "metadata": {},
   "outputs": [
    {
     "data": {
      "text/plain": [
       "'October 6 2018'"
      ]
     },
     "execution_count": 47,
     "metadata": {},
     "output_type": "execute_result"
    }
   ],
   "source": [
    "soup1.find('time', {'class': 'pub-date'}).text"
   ]
  },
  {
   "cell_type": "markdown",
   "metadata": {},
   "source": [
    "--"
   ]
  },
  {
   "cell_type": "markdown",
   "metadata": {},
   "source": [
    "**list of dates**"
   ]
  },
  {
   "cell_type": "code",
   "execution_count": 48,
   "metadata": {},
   "outputs": [],
   "source": [
    "pubDates = []\n",
    "loop5 = 0;\n",
    "for link in links:\n",
    "    response = requests.get(links[loop5])\n",
    "    contentSoup = BeautifulSoup(response.text, 'html.parser')\n",
    "    time = contentSoup.find('time', {'class': 'pub-date'}).text\n",
    "    pubDates.append(time)\n",
    "    loop5 = loop5 + 1"
   ]
  },
  {
   "cell_type": "code",
   "execution_count": 49,
   "metadata": {},
   "outputs": [
    {
     "data": {
      "text/plain": [
       "['37 mins ago',\n",
       " '37 mins ago',\n",
       " '37 mins ago',\n",
       " '36 mins ago',\n",
       " 'October 7 2018',\n",
       " 'October 6 2018',\n",
       " 'October 6 2018',\n",
       " 'October 6 2018',\n",
       " 'October 6 2018',\n",
       " 'October 5 2018',\n",
       " 'October 5 2018',\n",
       " 'October 5 2018']"
      ]
     },
     "execution_count": 49,
     "metadata": {},
     "output_type": "execute_result"
    }
   ],
   "source": [
    "pubDates"
   ]
  },
  {
   "cell_type": "markdown",
   "metadata": {},
   "source": [
    " "
   ]
  },
  {
   "cell_type": "markdown",
   "metadata": {},
   "source": [
    " "
   ]
  },
  {
   "cell_type": "markdown",
   "metadata": {},
   "source": [
    " "
   ]
  },
  {
   "cell_type": "code",
   "execution_count": 50,
   "metadata": {},
   "outputs": [
    {
     "data": {
      "text/plain": [
       "'Bandcamp'"
      ]
     },
     "execution_count": 50,
     "metadata": {},
     "output_type": "execute_result"
    }
   ],
   "source": [
    "soup1.find('div', {'class': 'player-display'}).find('span', {'class': 'source'}).find('a').text"
   ]
  },
  {
   "cell_type": "markdown",
   "metadata": {},
   "source": [
    "--"
   ]
  },
  {
   "cell_type": "markdown",
   "metadata": {},
   "source": [
    "**list of music links**"
   ]
  },
  {
   "cell_type": "code",
   "execution_count": 53,
   "metadata": {},
   "outputs": [],
   "source": [
    "musicLinks = []\n",
    "loop6 = 0\n",
    "for link in links:\n",
    "    response = requests.get(links[loop6])\n",
    "    contentSoup = BeautifulSoup(response.text, 'html.parser')\n",
    "    if len(contentSoup.find_all('div', {'class': 'player-display'})) != 0: # make sure there is a music file\n",
    "        reviewMusic = contentSoup.find('div', {'class': 'player-display'}).find_all('span', {'class': 'source'})\n",
    "        for linkz in reviewMusic:\n",
    "            a = linkz.find('a', href=True)\n",
    "            l = a['href']\n",
    "            musicLinks.append(l)\n",
    "    else:\n",
    "        musicLinks.append(\"\")\n",
    "    loop6 = loop6 + 1"
   ]
  },
  {
   "cell_type": "code",
   "execution_count": 54,
   "metadata": {},
   "outputs": [
    {
     "data": {
      "text/plain": [
       "['',\n",
       " 'https://thejoyformidableofficial.bandcamp.com/track/the-wrong-side',\n",
       " '',\n",
       " 'https://madelinekenney.bandcamp.com/track/bad-idea',\n",
       " '',\n",
       " 'https://stereolab.bandcamp.com/track/iron-man',\n",
       " 'https://soundcloud.com/sun-araw/07-mizu-youkan',\n",
       " 'https://authorandpunisher.bandcamp.com/track/nihil-strength',\n",
       " 'https://anadasilva.bandcamp.com/track/the-fear-song',\n",
       " '',\n",
       " '',\n",
       " 'https://marissanadler.bandcamp.com/track/for-my-crimes']"
      ]
     },
     "execution_count": 54,
     "metadata": {},
     "output_type": "execute_result"
    }
   ],
   "source": [
    "musicLinks"
   ]
  },
  {
   "cell_type": "markdown",
   "metadata": {},
   "source": [
    " "
   ]
  },
  {
   "cell_type": "markdown",
   "metadata": {},
   "source": [
    " "
   ]
  },
  {
   "cell_type": "markdown",
   "metadata": {},
   "source": [
    " "
   ]
  },
  {
   "cell_type": "markdown",
   "metadata": {},
   "source": [
    "## LEVEL II\n",
    "\n",
    "Go back to the original page of reviews and scroll down.  Notice that the url at the top of the page is simply adding numbers as it advances.  This pattern will allow you to scrape multiple pages, and gather more reviews from earlier dates.  \n",
    "\n",
    "1. Directly add the next reviews to a new url, and use your pattern above to scrape the additional reviews.\n",
    "2. Write a loop to go through the next ten pages of reviews and gather each piece."
   ]
  },
  {
   "cell_type": "code",
   "execution_count": null,
   "metadata": {},
   "outputs": [],
   "source": []
  },
  {
   "cell_type": "code",
   "execution_count": null,
   "metadata": {},
   "outputs": [],
   "source": []
  },
  {
   "cell_type": "code",
   "execution_count": null,
   "metadata": {},
   "outputs": [],
   "source": []
  },
  {
   "cell_type": "code",
   "execution_count": null,
   "metadata": {},
   "outputs": [],
   "source": []
  },
  {
   "cell_type": "code",
   "execution_count": null,
   "metadata": {},
   "outputs": [],
   "source": []
  },
  {
   "cell_type": "code",
   "execution_count": null,
   "metadata": {},
   "outputs": [],
   "source": []
  },
  {
   "cell_type": "code",
   "execution_count": null,
   "metadata": {},
   "outputs": [],
   "source": []
  },
  {
   "cell_type": "markdown",
   "metadata": {},
   "source": [
    "## LEVEL III\n",
    "\n"
   ]
  },
  {
   "cell_type": "markdown",
   "metadata": {},
   "source": [
    "Write a loop to go through all reviews available.  Save the results as a `.csv` file.  If you were able to scape the images; store these in a folder."
   ]
  },
  {
   "cell_type": "code",
   "execution_count": null,
   "metadata": {},
   "outputs": [],
   "source": []
  },
  {
   "cell_type": "code",
   "execution_count": null,
   "metadata": {},
   "outputs": [],
   "source": []
  },
  {
   "cell_type": "code",
   "execution_count": null,
   "metadata": {},
   "outputs": [],
   "source": []
  },
  {
   "cell_type": "code",
   "execution_count": null,
   "metadata": {},
   "outputs": [],
   "source": []
  },
  {
   "cell_type": "markdown",
   "metadata": {},
   "source": [
    "## LEVEL IV\n",
    "\n",
    "It is easy to use the `textblob` library to add sentiment and polarity of reviews to our `DataFrame`.  We need to convert the text to a `TextBlob` object, and then use the `.polarity` and `.subjectivity` labels of the text as new columns in our `DataFrame`.  Use the example below as a starting place to add two new columns to your dataframe containing the polarity and subjectivity scores for each review."
   ]
  },
  {
   "cell_type": "code",
   "execution_count": 1,
   "metadata": {},
   "outputs": [],
   "source": [
    "rev = \"Danielle Bregoli’s leap from meme to rapper continues with her debut mixtape that leans heavily on mimicry and trails dreadfully behind the current sound of hip-hop.\""
   ]
  },
  {
   "cell_type": "code",
   "execution_count": 2,
   "metadata": {},
   "outputs": [],
   "source": [
    "from textblob import TextBlob"
   ]
  },
  {
   "cell_type": "code",
   "execution_count": 3,
   "metadata": {},
   "outputs": [],
   "source": [
    "text = TextBlob(rev)"
   ]
  },
  {
   "cell_type": "code",
   "execution_count": 5,
   "metadata": {},
   "outputs": [
    {
     "data": {
      "text/plain": [
       "Sentiment(polarity=-0.05000000000000002, subjectivity=0.5)"
      ]
     },
     "execution_count": 5,
     "metadata": {},
     "output_type": "execute_result"
    }
   ],
   "source": [
    "text.sentiment"
   ]
  },
  {
   "cell_type": "code",
   "execution_count": 6,
   "metadata": {},
   "outputs": [
    {
     "data": {
      "text/plain": [
       "-0.05000000000000002"
      ]
     },
     "execution_count": 6,
     "metadata": {},
     "output_type": "execute_result"
    }
   ],
   "source": [
    "text.polarity"
   ]
  },
  {
   "cell_type": "code",
   "execution_count": 8,
   "metadata": {},
   "outputs": [
    {
     "data": {
      "text/plain": [
       "0.5"
      ]
     },
     "execution_count": 8,
     "metadata": {},
     "output_type": "execute_result"
    }
   ],
   "source": [
    "text.subjectivity"
   ]
  },
  {
   "cell_type": "code",
   "execution_count": null,
   "metadata": {},
   "outputs": [],
   "source": []
  },
  {
   "cell_type": "code",
   "execution_count": null,
   "metadata": {},
   "outputs": [],
   "source": []
  },
  {
   "cell_type": "code",
   "execution_count": null,
   "metadata": {},
   "outputs": [],
   "source": []
  },
  {
   "cell_type": "code",
   "execution_count": null,
   "metadata": {},
   "outputs": [],
   "source": []
  },
  {
   "cell_type": "code",
   "execution_count": null,
   "metadata": {},
   "outputs": [],
   "source": []
  },
  {
   "cell_type": "code",
   "execution_count": null,
   "metadata": {},
   "outputs": [],
   "source": []
  },
  {
   "cell_type": "code",
   "execution_count": null,
   "metadata": {},
   "outputs": [],
   "source": []
  }
 ],
 "metadata": {
  "kernelspec": {
   "display_name": "Python 3",
   "language": "python",
   "name": "python3"
  },
  "language_info": {
   "codemirror_mode": {
    "name": "ipython",
    "version": 3
   },
   "file_extension": ".py",
   "mimetype": "text/x-python",
   "name": "python",
   "nbconvert_exporter": "python",
   "pygments_lexer": "ipython3",
   "version": "3.6.5"
  }
 },
 "nbformat": 4,
 "nbformat_minor": 2
}
