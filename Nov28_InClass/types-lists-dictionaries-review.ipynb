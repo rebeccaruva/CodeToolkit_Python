{
 "cells": [
  {
   "cell_type": "markdown",
   "metadata": {},
   "source": [
    "# Python Basics Review"
   ]
  },
  {
   "cell_type": "markdown",
   "metadata": {},
   "source": [
    "---\n",
    "\n",
    "### 1) What are the types of the following variables?"
   ]
  },
  {
   "cell_type": "code",
   "execution_count": 22,
   "metadata": {
    "collapsed": true
   },
   "outputs": [],
   "source": [
    "a = 1\n",
    "b = 2.6\n",
    "c = [1,2,3,5,6]\n",
    "d = {'kiefer':'katovich', 'dave':'yerrington'}\n",
    "e = ('one', 'two', 'three')\n",
    "f = {1:{'key':'value'}, 2:{'key2':'value2'}}\n",
    "g = True\n",
    "h = False\n",
    "i = 'integer'"
   ]
  },
  {
   "cell_type": "code",
   "execution_count": 23,
   "metadata": {
    "collapsed": true
   },
   "outputs": [
    {
     "data": {
      "text/plain": [
       "str"
      ]
     },
     "execution_count": 23,
     "metadata": {},
     "output_type": "execute_result"
    }
   ],
   "source": [
    "# A:\n",
    "# a - int\n",
    "# b - float\n",
    "# c - int list\n",
    "# d - dictionary\n",
    "# e - string tuple\n",
    "# f - dictionary\n",
    "# g - bool set to true\n",
    "# h - bool set to false\n",
    "# i - string\n",
    "type(i)"
   ]
  },
  {
   "cell_type": "markdown",
   "metadata": {},
   "source": [
    "---\n",
    "\n",
    "### 2) What is the difference between a \"mutable\" and an \"immutable\" object?"
   ]
  },
  {
   "cell_type": "code",
   "execution_count": 24,
   "metadata": {
    "collapsed": true
   },
   "outputs": [],
   "source": [
    "# A:\n",
    "# mutable objects can have content changed without changing their identity (lists, dictionaries)\n",
    "# immutable objects cannot be changed after creation (int, float, string, tuple, array, bool)"
   ]
  },
  {
   "cell_type": "markdown",
   "metadata": {},
   "source": [
    "---\n",
    "\n",
    "### 3) Print the `student_names` list."
   ]
  },
  {
   "cell_type": "code",
   "execution_count": 25,
   "metadata": {
    "collapsed": false
   },
   "outputs": [
    {
     "name": "stdout",
     "output_type": "stream",
     "text": [
      "['paul', 'david', 'cindy', 'magdelona', 'jacob', 'howard', 'chahn', 'lindsay', 'kelsey', 'melissa', 'dahee']\n"
     ]
    }
   ],
   "source": [
    "# A:\n",
    "student_names = [\"paul\", \"david\", \"cindy\", \"magdelona\", \"jacob\", \"howard\", \"chahn\", \"lindsay\", \"kelsey\", \"melissa\", \"dahee\"]\n",
    "print(student_names)"
   ]
  },
  {
   "cell_type": "markdown",
   "metadata": {},
   "source": [
    "---\n",
    "\n",
    "### 4) Print the names of the first and last students on the list."
   ]
  },
  {
   "cell_type": "code",
   "execution_count": 26,
   "metadata": {
    "collapsed": false
   },
   "outputs": [
    {
     "name": "stdout",
     "output_type": "stream",
     "text": [
      "paul\n",
      "dahee\n"
     ]
    }
   ],
   "source": [
    "# A:\n",
    "print(student_names[0]) #first\n",
    "print(student_names[len(student_names)-1]) #last"
   ]
  },
  {
   "cell_type": "code",
   "execution_count": 27,
   "metadata": {},
   "outputs": [
    {
     "name": "stdout",
     "output_type": "stream",
     "text": [
      "dahee\n"
     ]
    }
   ],
   "source": [
    "print(student_names[-1])"
   ]
  },
  {
   "cell_type": "code",
   "execution_count": 28,
   "metadata": {},
   "outputs": [
    {
     "name": "stdout",
     "output_type": "stream",
     "text": [
      "['paul', 'cindy', 'jacob', 'chahn', 'kelsey', 'dahee']\n"
     ]
    }
   ],
   "source": [
    "print(student_names[::2])# skip count every 2"
   ]
  },
  {
   "cell_type": "code",
   "execution_count": 29,
   "metadata": {},
   "outputs": [
    {
     "name": "stdout",
     "output_type": "stream",
     "text": [
      "['dahee', 'melissa', 'kelsey', 'lindsay', 'chahn', 'howard', 'jacob', 'magdelona', 'cindy', 'david', 'paul']\n"
     ]
    }
   ],
   "source": [
    "print(student_names[::-1]) # reverse list"
   ]
  },
  {
   "cell_type": "markdown",
   "metadata": {},
   "source": [
    "---\n",
    "\n",
    "### 5) Print the first five names in the `student_names` list."
   ]
  },
  {
   "cell_type": "code",
   "execution_count": 30,
   "metadata": {
    "collapsed": false
   },
   "outputs": [
    {
     "name": "stdout",
     "output_type": "stream",
     "text": [
      "paul\n",
      "david\n",
      "cindy\n",
      "magdelona\n",
      "jacob\n"
     ]
    }
   ],
   "source": [
    "# A:\n",
    "i = 0\n",
    "while i < 5:\n",
    "    print(student_names[i])\n",
    "    i += 1"
   ]
  },
  {
   "cell_type": "code",
   "execution_count": 31,
   "metadata": {},
   "outputs": [
    {
     "name": "stdout",
     "output_type": "stream",
     "text": [
      "['paul', 'david', 'cindy', 'magdelona', 'jacob']\n"
     ]
    }
   ],
   "source": [
    "print(student_names[0:5])"
   ]
  },
  {
   "cell_type": "code",
   "execution_count": 32,
   "metadata": {},
   "outputs": [
    {
     "name": "stdout",
     "output_type": "stream",
     "text": [
      "['paul', 'david', 'cindy', 'magdelona', 'jacob']\n"
     ]
    }
   ],
   "source": [
    "print(student_names[:5])"
   ]
  },
  {
   "cell_type": "markdown",
   "metadata": {},
   "source": [
    "---\n",
    "\n",
    "### 6) Combine the ninth and 10th student names into a single string, separated by a space. Assign that string to a variable."
   ]
  },
  {
   "cell_type": "code",
   "execution_count": 33,
   "metadata": {
    "collapsed": false
   },
   "outputs": [
    {
     "name": "stdout",
     "output_type": "stream",
     "text": [
      "kelsey melissa\n"
     ]
    }
   ],
   "source": [
    "# A:\n",
    "two_homies = student_names[8] + \" \" + student_names[9]\n",
    "print(two_homies)"
   ]
  },
  {
   "cell_type": "markdown",
   "metadata": {},
   "source": [
    "---\n",
    "\n",
    "### 7) Append an animal to the list of animals."
   ]
  },
  {
   "cell_type": "code",
   "execution_count": 34,
   "metadata": {
    "collapsed": true
   },
   "outputs": [],
   "source": [
    "animals = ['duck', 'rat', 'boar', 'slug', 'mammoth', 'gazelle']"
   ]
  },
  {
   "cell_type": "code",
   "execution_count": 35,
   "metadata": {
    "collapsed": false
   },
   "outputs": [
    {
     "name": "stdout",
     "output_type": "stream",
     "text": [
      "['duck', 'rat', 'boar', 'slug', 'mammoth', 'gazelle', 'sugar glider']\n"
     ]
    }
   ],
   "source": [
    "# A:\n",
    "animals.append(\"sugar glider\")\n",
    "print(animals)"
   ]
  },
  {
   "cell_type": "markdown",
   "metadata": {},
   "source": [
    "---\n",
    "\n",
    "### 8) Print the length of the `animals` list."
   ]
  },
  {
   "cell_type": "code",
   "execution_count": 36,
   "metadata": {
    "collapsed": false
   },
   "outputs": [
    {
     "name": "stdout",
     "output_type": "stream",
     "text": [
      "7\n"
     ]
    }
   ],
   "source": [
    "# A:\n",
    "print(len(animals))"
   ]
  },
  {
   "cell_type": "markdown",
   "metadata": {},
   "source": [
    "---\n",
    "\n",
    "### 9) Divide the length of the fifth animal by the second."
   ]
  },
  {
   "cell_type": "code",
   "execution_count": 37,
   "metadata": {
    "collapsed": false
   },
   "outputs": [
    {
     "name": "stdout",
     "output_type": "stream",
     "text": [
      "2.3333333333333335\n"
     ]
    }
   ],
   "source": [
    "# A:\n",
    "divided = len(animals[4]) / len(animals[1])\n",
    "print(divided)"
   ]
  },
  {
   "cell_type": "markdown",
   "metadata": {},
   "source": [
    "---\n",
    "\n",
    "### 10) Perform the same division, but ensure the output is a decimal number."
   ]
  },
  {
   "cell_type": "code",
   "execution_count": 64,
   "metadata": {
    "collapsed": false
   },
   "outputs": [
    {
     "name": "stdout",
     "output_type": "stream",
     "text": [
      "2.3333333333333335\n"
     ]
    }
   ],
   "source": [
    "# A:\n",
    "divided = float(len(animals[4]) / len(animals[1]))\n",
    "print(divided)"
   ]
  },
  {
   "cell_type": "code",
   "execution_count": 38,
   "metadata": {},
   "outputs": [
    {
     "data": {
      "text/plain": [
       "2"
      ]
     },
     "execution_count": 38,
     "metadata": {},
     "output_type": "execute_result"
    }
   ],
   "source": [
    "int(divided)"
   ]
  },
  {
   "cell_type": "code",
   "execution_count": 39,
   "metadata": {},
   "outputs": [
    {
     "data": {
      "text/plain": [
       "2.333"
      ]
     },
     "execution_count": 39,
     "metadata": {},
     "output_type": "execute_result"
    }
   ],
   "source": [
    "round(divided, 3)"
   ]
  },
  {
   "cell_type": "code",
   "execution_count": 41,
   "metadata": {},
   "outputs": [
    {
     "name": "stdout",
     "output_type": "stream",
     "text": [
      "The quotient of 7 and 3 is 2.3333\n"
     ]
    }
   ],
   "source": [
    "print(\"The quotient of {} and {} is {:.4f}\".format(7, 3, divided))"
   ]
  },
  {
   "cell_type": "markdown",
   "metadata": {},
   "source": [
    "---\n",
    "\n",
    "### 11) Demonstrate two different ways to combine the `animals` list and the `numbers` list."
   ]
  },
  {
   "cell_type": "code",
   "execution_count": 42,
   "metadata": {
    "collapsed": true
   },
   "outputs": [],
   "source": [
    "numbers = [0., 0.1, 1., 10., 100., 1000.]"
   ]
  },
  {
   "cell_type": "code",
   "execution_count": 43,
   "metadata": {
    "collapsed": false
   },
   "outputs": [
    {
     "name": "stdout",
     "output_type": "stream",
     "text": [
      "[0.0, 0.1, 1.0, 10.0, 100.0, 1000.0, 'duck', 'rat', 'boar', 'slug', 'mammoth', 'gazelle', 'sugar glider']\n",
      "[0.0, 0.1, 1.0, 10.0, 100.0, 1000.0]\n"
     ]
    }
   ],
   "source": [
    "# A:\n",
    "combo_power = numbers.copy()\n",
    "for buddy in animals:\n",
    "    combo_power.append(buddy)\n",
    "print(combo_power)\n",
    "print(numbers)"
   ]
  },
  {
   "cell_type": "code",
   "execution_count": 44,
   "metadata": {},
   "outputs": [
    {
     "name": "stdout",
     "output_type": "stream",
     "text": [
      "[0.0, 0.1, 1.0, 10.0, 100.0, 1000.0, 'duck', 'rat', 'boar', 'slug', 'mammoth', 'gazelle', 'sugar glider']\n"
     ]
    }
   ],
   "source": [
    "combo_power2 = numbers + animals\n",
    "print(combo_power2)"
   ]
  },
  {
   "cell_type": "markdown",
   "metadata": {},
   "source": [
    "---\n",
    "\n",
    "### 12) Remove `'kiefer'` from the list and insert your own name in its place."
   ]
  },
  {
   "cell_type": "code",
   "execution_count": 70,
   "metadata": {
    "collapsed": true
   },
   "outputs": [],
   "source": [
    "names = ['doug', 'billy', 'kiefer', 'kian', 'sam']"
   ]
  },
  {
   "cell_type": "code",
   "execution_count": 65,
   "metadata": {
    "collapsed": false
   },
   "outputs": [
    {
     "name": "stdout",
     "output_type": "stream",
     "text": [
      "['doug', 'billy', 'bex', 'kian', 'sam']\n"
     ]
    }
   ],
   "source": [
    "# A:\n",
    "where = names.index(\"kiefer\")\n",
    "names.pop(where)\n",
    "names.insert(where, \"bex\")\n",
    "print(names)"
   ]
  },
  {
   "cell_type": "code",
   "execution_count": 66,
   "metadata": {},
   "outputs": [
    {
     "data": {
      "text/plain": [
       "['doug', 'billy', 'bexx', 'kian', 'sam']"
      ]
     },
     "execution_count": 66,
     "metadata": {},
     "output_type": "execute_result"
    }
   ],
   "source": [
    "names[2] = \"bexx\"\n",
    "names"
   ]
  },
  {
   "cell_type": "code",
   "execution_count": 71,
   "metadata": {},
   "outputs": [
    {
     "data": {
      "text/plain": [
       "['doug', 'billy', 'bex', 'kian', 'sam']"
      ]
     },
     "execution_count": 71,
     "metadata": {},
     "output_type": "execute_result"
    }
   ],
   "source": [
    "where = names.index(\"kiefer\")\n",
    "names[where] = \"bex\"\n",
    "names"
   ]
  },
  {
   "cell_type": "markdown",
   "metadata": {},
   "source": [
    "---\n",
    "\n",
    "### 13) Sort the following list."
   ]
  },
  {
   "cell_type": "code",
   "execution_count": 18,
   "metadata": {
    "collapsed": true
   },
   "outputs": [],
   "source": [
    "mix = [['billy', 'sam'], {'key':'value'}, 12.999, 12, 'flower', 'a', (1, 2, 3)]"
   ]
  },
  {
   "cell_type": "code",
   "execution_count": 16,
   "metadata": {
    "collapsed": true
   },
   "outputs": [
    {
     "name": "stdout",
     "output_type": "stream",
     "text": [
      "[0, 5, 16, 100, 101, 200, 200]\n"
     ]
    }
   ],
   "source": [
    "# A:\n",
    "mix2 = [200, 5, 16, 100, 0, 101, 200]\n",
    "mix2.sort()\n",
    "print(mix2)"
   ]
  },
  {
   "cell_type": "markdown",
   "metadata": {},
   "source": [
    "---\n",
    "\n",
    "### 14) Manually check whether or not one element of `mix` is greater than another."
   ]
  },
  {
   "cell_type": "code",
   "execution_count": 17,
   "metadata": {
    "collapsed": false
   },
   "outputs": [
    {
     "name": "stdout",
     "output_type": "stream",
     "text": [
      "200\n",
      "200\n"
     ]
    }
   ],
   "source": [
    "# A:\n",
    "\n",
    "max_num = 0\n",
    "for i in mix2:\n",
    "    if i > max_num:\n",
    "        max_num = i\n",
    "print(max_num)\n",
    "\n",
    "#easier way\n",
    "print(max(mix2))"
   ]
  },
  {
   "cell_type": "markdown",
   "metadata": {},
   "source": [
    "---\n",
    "\n",
    "### 15) Find the index of `'a'` in the list."
   ]
  },
  {
   "cell_type": "code",
   "execution_count": 19,
   "metadata": {
    "collapsed": false
   },
   "outputs": [
    {
     "data": {
      "text/plain": [
       "5"
      ]
     },
     "execution_count": 19,
     "metadata": {},
     "output_type": "execute_result"
    }
   ],
   "source": [
    "# A:\n",
    "mix.index('a')"
   ]
  },
  {
   "cell_type": "markdown",
   "metadata": {},
   "source": [
    "---\n",
    "\n",
    "### 16) Reverse the `mix` list."
   ]
  },
  {
   "cell_type": "code",
   "execution_count": 20,
   "metadata": {
    "collapsed": true
   },
   "outputs": [
    {
     "data": {
      "text/plain": [
       "[(1, 2, 3), 'a', 'flower', 12, 12.999, {'key': 'value'}, ['billy', 'sam']]"
      ]
     },
     "execution_count": 20,
     "metadata": {},
     "output_type": "execute_result"
    }
   ],
   "source": [
    "# A:\n",
    "mix[::-1]"
   ]
  },
  {
   "cell_type": "markdown",
   "metadata": {},
   "source": [
    "---\n",
    "\n",
    "### 17) Remove the last element of `mix`  and assign it to a variable."
   ]
  },
  {
   "cell_type": "code",
   "execution_count": 21,
   "metadata": {
    "collapsed": true
   },
   "outputs": [
    {
     "name": "stdout",
     "output_type": "stream",
     "text": [
      "[['billy', 'sam'], {'key': 'value'}, 12.999, 12, 'flower', 'a']\n",
      "(1, 2, 3)\n"
     ]
    }
   ],
   "source": [
    "# A:\n",
    "last_in_mix = mix[-1]\n",
    "mix.remove(last_in_mix)\n",
    "print(mix)\n",
    "print(last_in_mix)"
   ]
  },
  {
   "cell_type": "markdown",
   "metadata": {},
   "source": [
    "---\n",
    "\n",
    "### 18) Count the number of times `0` appears in the following list."
   ]
  },
  {
   "cell_type": "code",
   "execution_count": 22,
   "metadata": {
    "collapsed": true
   },
   "outputs": [],
   "source": [
    "binary = [0,1,1,0,1,0,1,1,1,1,0,0,1,0,0,1,0,1,1,0,0,1,1,0,1,1,0,0,0,1,1,1,0,1,0,1]"
   ]
  },
  {
   "cell_type": "code",
   "execution_count": 23,
   "metadata": {},
   "outputs": [
    {
     "data": {
      "text/plain": [
       "16"
      ]
     },
     "execution_count": 23,
     "metadata": {},
     "output_type": "execute_result"
    }
   ],
   "source": [
    "# A:\n",
    "zero_count = 0\n",
    "for i in binary:\n",
    "    if i == 0:\n",
    "        zero_count += 1\n",
    "zero_count"
   ]
  },
  {
   "cell_type": "code",
   "execution_count": 107,
   "metadata": {},
   "outputs": [],
   "source": [
    "#palindrome question\n",
    "palindromes = []\n",
    "for i in range(100, 999):\n",
    "    for j in range(100, 999):\n",
    "        prod = str(i*j)\n",
    "        if prod == prod[::-1]:\n",
    "            palindromes.append(int(prod))"
   ]
  },
  {
   "cell_type": "code",
   "execution_count": 108,
   "metadata": {},
   "outputs": [
    {
     "data": {
      "text/plain": [
       "906609"
      ]
     },
     "execution_count": 108,
     "metadata": {},
     "output_type": "execute_result"
    }
   ],
   "source": [
    "max(palindromes)"
   ]
  },
  {
   "cell_type": "markdown",
   "metadata": {},
   "source": [
    "---\n",
    "\n",
    "### 19) Create an SF (San Francisco) zip code dictionary.\n",
    "\n",
    "With the following key-value pairs:\n",
    "\n",
    "    'sunset':94122\n",
    "    'presidio':94129\n",
    "    'soma':94105\n",
    "    'marina':94123"
   ]
  },
  {
   "cell_type": "code",
   "execution_count": 69,
   "metadata": {
    "collapsed": false
   },
   "outputs": [
    {
     "data": {
      "text/plain": [
       "{'sunset': 94122, 'presidio': 94129, 'soma': 94105, 'marina': 94123}"
      ]
     },
     "execution_count": 69,
     "metadata": {},
     "output_type": "execute_result"
    }
   ],
   "source": [
    "# A:\n",
    "sf_zipcodes = {'sunset':94122, 'presidio':94129, 'soma':94105, 'marina':94123}\n",
    "sf_zipcodes"
   ]
  },
  {
   "cell_type": "markdown",
   "metadata": {},
   "source": [
    "---\n",
    "\n",
    "### 20) Get the zip code for `'soma'` and assign it to a variable."
   ]
  },
  {
   "cell_type": "code",
   "execution_count": 70,
   "metadata": {
    "collapsed": false
   },
   "outputs": [
    {
     "data": {
      "text/plain": [
       "94105"
      ]
     },
     "execution_count": 70,
     "metadata": {},
     "output_type": "execute_result"
    }
   ],
   "source": [
    "# A:\n",
    "soma_zipcode = sf_zipcodes.get(\"soma\")\n",
    "soma_zipcode"
   ]
  },
  {
   "cell_type": "markdown",
   "metadata": {},
   "source": [
    "---\n",
    "\n",
    "### 21) Get the keys out of the dictionary."
   ]
  },
  {
   "cell_type": "code",
   "execution_count": 71,
   "metadata": {
    "collapsed": true
   },
   "outputs": [
    {
     "data": {
      "text/plain": [
       "dict_keys(['sunset', 'presidio', 'soma', 'marina'])"
      ]
     },
     "execution_count": 71,
     "metadata": {},
     "output_type": "execute_result"
    }
   ],
   "source": [
    "# A:\n",
    "sf_zipcodes.keys() # or .values() if you want the values"
   ]
  },
  {
   "cell_type": "markdown",
   "metadata": {},
   "source": [
    "---\n",
    "\n",
    "### 22) Get the key-value pairs out of the dictionary as a list of tuples."
   ]
  },
  {
   "cell_type": "code",
   "execution_count": 72,
   "metadata": {
    "collapsed": true
   },
   "outputs": [
    {
     "data": {
      "text/plain": [
       "[['sunset', 94122], ['presidio', 94129], ['soma', 94105], ['marina', 94123]]"
      ]
     },
     "execution_count": 72,
     "metadata": {},
     "output_type": "execute_result"
    }
   ],
   "source": [
    "# A:\n",
    "sf_zipcodes_ls = []\n",
    "for key, value in sf_zipcodes.items():\n",
    "    temp = [key,value]\n",
    "    sf_zipcodes_ls.append(temp)\n",
    "sf_zipcodes_ls"
   ]
  },
  {
   "cell_type": "markdown",
   "metadata": {},
   "source": [
    "---\n",
    "\n",
    "### 23) Add The Castro to the dictionary with the zip code 94114."
   ]
  },
  {
   "cell_type": "code",
   "execution_count": 73,
   "metadata": {
    "collapsed": false
   },
   "outputs": [
    {
     "data": {
      "text/plain": [
       "{'sunset': 94122,\n",
       " 'presidio': 94129,\n",
       " 'soma': 94105,\n",
       " 'marina': 94123,\n",
       " 'the castro': 94114}"
      ]
     },
     "execution_count": 73,
     "metadata": {},
     "output_type": "execute_result"
    }
   ],
   "source": [
    "# A:\n",
    "sf_zipcodes[\"the castro\"] = 94114\n",
    "sf_zipcodes"
   ]
  },
  {
   "cell_type": "markdown",
   "metadata": {},
   "source": [
    "---\n",
    "\n",
    "### 24) Combine the following smaller dictionary of districts with the SF zip code dictionary."
   ]
  },
  {
   "cell_type": "code",
   "execution_count": 74,
   "metadata": {
    "collapsed": true
   },
   "outputs": [],
   "source": [
    "small = {'outer_richmond':94121, 'dogpatch':94107}"
   ]
  },
  {
   "cell_type": "code",
   "execution_count": 75,
   "metadata": {
    "collapsed": false
   },
   "outputs": [],
   "source": [
    "# A:\n",
    "sf_zipcodes.update(small)"
   ]
  },
  {
   "cell_type": "code",
   "execution_count": 76,
   "metadata": {},
   "outputs": [
    {
     "data": {
      "text/plain": [
       "{'sunset': 94122,\n",
       " 'presidio': 94129,\n",
       " 'soma': 94105,\n",
       " 'marina': 94123,\n",
       " 'the castro': 94114,\n",
       " 'outer_richmond': 94121,\n",
       " 'dogpatch': 94107}"
      ]
     },
     "execution_count": 76,
     "metadata": {},
     "output_type": "execute_result"
    }
   ],
   "source": [
    "sf_zipcodes"
   ]
  },
  {
   "cell_type": "markdown",
   "metadata": {},
   "source": [
    "---\n",
    "\n",
    "### 25) Remove the `'sunset'` zip code and assign it to a variable."
   ]
  },
  {
   "cell_type": "code",
   "execution_count": 77,
   "metadata": {
    "collapsed": false
   },
   "outputs": [
    {
     "data": {
      "text/plain": [
       "94122"
      ]
     },
     "execution_count": 77,
     "metadata": {},
     "output_type": "execute_result"
    }
   ],
   "source": [
    "# A:\n",
    "sunset = sf_zipcodes.pop('sunset')\n",
    "sunset"
   ]
  },
  {
   "cell_type": "code",
   "execution_count": 78,
   "metadata": {},
   "outputs": [
    {
     "data": {
      "text/plain": [
       "{'presidio': 94129,\n",
       " 'soma': 94105,\n",
       " 'marina': 94123,\n",
       " 'the castro': 94114,\n",
       " 'outer_richmond': 94121,\n",
       " 'dogpatch': 94107}"
      ]
     },
     "execution_count": 78,
     "metadata": {},
     "output_type": "execute_result"
    }
   ],
   "source": [
    "sf_zipcodes"
   ]
  },
  {
   "cell_type": "markdown",
   "metadata": {},
   "source": [
    "---\n",
    "\n",
    "### 26) Check if the `'dogpatch'` is in the dictionary."
   ]
  },
  {
   "cell_type": "code",
   "execution_count": 79,
   "metadata": {
    "collapsed": false
   },
   "outputs": [
    {
     "name": "stdout",
     "output_type": "stream",
     "text": [
      "dogpatch is in dict\n"
     ]
    }
   ],
   "source": [
    "# A:\n",
    "if 'dogpatch' in sf_zipcodes:\n",
    "    print('dogpatch is in dict')\n",
    "else:\n",
    "    print(\"error, no dogpatch\")"
   ]
  },
  {
   "cell_type": "code",
   "execution_count": null,
   "metadata": {},
   "outputs": [],
   "source": []
  }
 ],
 "metadata": {
  "kernelspec": {
   "display_name": "Python 3",
   "language": "python",
   "name": "python3"
  },
  "language_info": {
   "codemirror_mode": {
    "name": "ipython",
    "version": 3
   },
   "file_extension": ".py",
   "mimetype": "text/x-python",
   "name": "python",
   "nbconvert_exporter": "python",
   "pygments_lexer": "ipython3",
   "version": "3.6.5"
  }
 },
 "nbformat": 4,
 "nbformat_minor": 2
}
